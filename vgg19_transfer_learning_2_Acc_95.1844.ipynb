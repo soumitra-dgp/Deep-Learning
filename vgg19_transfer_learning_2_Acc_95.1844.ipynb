{
  "nbformat": 4,
  "nbformat_minor": 0,
  "metadata": {
    "colab": {
      "name": "vgg19_transfer_learning_2.ipynb",
      "provenance": [],
      "collapsed_sections": []
    },
    "kernelspec": {
      "name": "python3",
      "display_name": "Python 3"
    },
    "language_info": {
      "name": "python"
    },
    "accelerator": "GPU"
  },
  "cells": [
    {
      "cell_type": "code",
      "metadata": {
        "id": "_hx_W8rYcIV7"
      },
      "source": [
        "#importing other required libraries\n",
        "import numpy as np\n",
        "import pandas as pd\n",
        "from sklearn.utils.multiclass import unique_labels\n",
        "import os\n",
        "import matplotlib.pyplot as plt\n",
        "import matplotlib.image as mpimg\n",
        "import seaborn as sns\n",
        "from tqdm import tqdm\n",
        "import itertools\n",
        "from sklearn.model_selection import train_test_split\n",
        "from sklearn.metrics import confusion_matrix\n",
        "from keras import Sequential\n",
        "import tensorflow as tf\n",
        "from tensorflow.keras.applications.vgg19 import VGG19 #For Transfer Learning\n",
        "from keras.preprocessing.image import ImageDataGenerator\n",
        "from keras.optimizers import SGD,Adam\n",
        "from keras.callbacks import ReduceLROnPlateau\n",
        "from keras.layers import Flatten,Dense,BatchNormalization,Activation,Dropout\n",
        "from tensorflow.keras.utils import to_categorical"
      ],
      "execution_count": 1,
      "outputs": []
    },
    {
      "cell_type": "code",
      "metadata": {
        "colab": {
          "base_uri": "https://localhost:8080/"
        },
        "id": "iR_5ftN3cKE-",
        "outputId": "a3d14b28-1d08-4e27-b1cf-77a0f0b01715"
      },
      "source": [
        "from google.colab import drive\n",
        "drive.mount('/content/drive')"
      ],
      "execution_count": 2,
      "outputs": [
        {
          "output_type": "stream",
          "text": [
            "Mounted at /content/drive\n"
          ],
          "name": "stdout"
        }
      ]
    },
    {
      "cell_type": "code",
      "metadata": {
        "id": "tK2s9KRAdzTE"
      },
      "source": [
        "# Home directory\n",
        "home_path = r'/content/drive/MyDrive/Dphi_Hackathon/eye_gender_data_2'\n",
        "\n",
        "# Create train and validation directories\n",
        "#train_path = os.path.join(home_path,'train')\n",
        "#os.mkdir(train_path)\n",
        "val_path = os.path.join(home_path,'valid')\n",
        "os.mkdir(val_path)\n",
        "\n",
        "# Create sub-directories\n",
        "male_train_path = os.path.join(home_path + r'/train','male')\n",
        "os.mkdir(male_train_path)\n",
        "\n",
        "female_train_path = os.path.join(home_path + r'/train','female')\n",
        "os.mkdir(female_train_path)\n",
        "\n",
        "male_val_path = os.path.join(home_path + r'/valid','male')\n",
        "os.mkdir(male_val_path)\n",
        "\n",
        "female_val_path = os.path.join(home_path + r'/valid','female')\n",
        "os.mkdir(female_val_path)"
      ],
      "execution_count": 5,
      "outputs": []
    },
    {
      "cell_type": "code",
      "metadata": {
        "id": "TI-kT6h8enwF"
      },
      "source": [
        "# Original df\n",
        "df = pd.read_csv(home_path + r'/Training_set.csv')"
      ],
      "execution_count": 6,
      "outputs": []
    },
    {
      "cell_type": "code",
      "metadata": {
        "colab": {
          "base_uri": "https://localhost:8080/",
          "height": 204
        },
        "id": "-XgL_67zbZ8l",
        "outputId": "aacefba6-eb4a-497d-be3f-a8725da9f422"
      },
      "source": [
        "df.head(5)"
      ],
      "execution_count": 7,
      "outputs": [
        {
          "output_type": "execute_result",
          "data": {
            "text/html": [
              "<div>\n",
              "<style scoped>\n",
              "    .dataframe tbody tr th:only-of-type {\n",
              "        vertical-align: middle;\n",
              "    }\n",
              "\n",
              "    .dataframe tbody tr th {\n",
              "        vertical-align: top;\n",
              "    }\n",
              "\n",
              "    .dataframe thead th {\n",
              "        text-align: right;\n",
              "    }\n",
              "</style>\n",
              "<table border=\"1\" class=\"dataframe\">\n",
              "  <thead>\n",
              "    <tr style=\"text-align: right;\">\n",
              "      <th></th>\n",
              "      <th>filename</th>\n",
              "      <th>label</th>\n",
              "    </tr>\n",
              "  </thead>\n",
              "  <tbody>\n",
              "    <tr>\n",
              "      <th>0</th>\n",
              "      <td>Image_1.jpg</td>\n",
              "      <td>male</td>\n",
              "    </tr>\n",
              "    <tr>\n",
              "      <th>1</th>\n",
              "      <td>Image_2.jpg</td>\n",
              "      <td>female</td>\n",
              "    </tr>\n",
              "    <tr>\n",
              "      <th>2</th>\n",
              "      <td>Image_3.jpg</td>\n",
              "      <td>female</td>\n",
              "    </tr>\n",
              "    <tr>\n",
              "      <th>3</th>\n",
              "      <td>Image_4.jpg</td>\n",
              "      <td>female</td>\n",
              "    </tr>\n",
              "    <tr>\n",
              "      <th>4</th>\n",
              "      <td>Image_5.jpg</td>\n",
              "      <td>male</td>\n",
              "    </tr>\n",
              "  </tbody>\n",
              "</table>\n",
              "</div>"
            ],
            "text/plain": [
              "      filename   label\n",
              "0  Image_1.jpg    male\n",
              "1  Image_2.jpg  female\n",
              "2  Image_3.jpg  female\n",
              "3  Image_4.jpg  female\n",
              "4  Image_5.jpg    male"
            ]
          },
          "metadata": {
            "tags": []
          },
          "execution_count": 7
        }
      ]
    },
    {
      "cell_type": "code",
      "metadata": {
        "id": "TKd8ul0pexrV"
      },
      "source": [
        "# Images and Labels\n",
        "X = df.loc[:,'filename']\n",
        "y = df.loc[:,'label']"
      ],
      "execution_count": 8,
      "outputs": []
    },
    {
      "cell_type": "code",
      "metadata": {
        "colab": {
          "base_uri": "https://localhost:8080/"
        },
        "id": "QYN5aKigblBE",
        "outputId": "59053a4f-e73f-483c-e6cc-4eaf200eccd1"
      },
      "source": [
        "y.head(5)"
      ],
      "execution_count": 9,
      "outputs": [
        {
          "output_type": "execute_result",
          "data": {
            "text/plain": [
              "0      male\n",
              "1    female\n",
              "2    female\n",
              "3    female\n",
              "4      male\n",
              "Name: label, dtype: object"
            ]
          },
          "metadata": {
            "tags": []
          },
          "execution_count": 9
        }
      ]
    },
    {
      "cell_type": "code",
      "metadata": {
        "id": "0srztt6sexkN"
      },
      "source": [
        "# Train-Test splitfor train and validation images\n",
        "train_x, val_x, train_y, val_y = train_test_split(X, y, test_size = 0.2, random_state = 27, stratify=y)"
      ],
      "execution_count": 10,
      "outputs": []
    },
    {
      "cell_type": "code",
      "metadata": {
        "colab": {
          "base_uri": "https://localhost:8080/"
        },
        "id": "B9fvWfKjiMf7",
        "outputId": "4220a8b0-18a7-4ed7-8b85-1f34d0a2df2f"
      },
      "source": [
        "train_y"
      ],
      "execution_count": 11,
      "outputs": [
        {
          "output_type": "execute_result",
          "data": {
            "text/plain": [
              "8464      male\n",
              "8750    female\n",
              "277       male\n",
              "5267    female\n",
              "990     female\n",
              "         ...  \n",
              "7855    female\n",
              "1683      male\n",
              "6993      male\n",
              "1401      male\n",
              "3470    female\n",
              "Name: label, Length: 7376, dtype: object"
            ]
          },
          "metadata": {
            "tags": []
          },
          "execution_count": 11
        }
      ]
    },
    {
      "cell_type": "code",
      "metadata": {
        "colab": {
          "base_uri": "https://localhost:8080/"
        },
        "id": "lRJVKOLmkZtQ",
        "outputId": "4a7fa667-1bb1-4445-b3e7-3f298ce23161"
      },
      "source": [
        "print((train_x.shape,train_y.shape))\n",
        "print((val_x.shape,val_y.shape))"
      ],
      "execution_count": 12,
      "outputs": [
        {
          "output_type": "stream",
          "text": [
            "((7376,), (7376,))\n",
            "((1844,), (1844,))\n"
          ],
          "name": "stdout"
        }
      ]
    },
    {
      "cell_type": "code",
      "metadata": {
        "id": "EBxA3Q9hexct"
      },
      "source": [
        "# Train df\n",
        "df_train = pd.DataFrame(columns=['filename','label'])\n",
        "df_train['filename'] = train_x\n",
        "df_train['label'] = train_y\n",
        "\n",
        "# Validation df\n",
        "df_valid= pd.DataFrame(columns=['filename','label'])\n",
        "df_valid['filename'] = val_x\n",
        "df_valid['label'] = val_y\n",
        "\n",
        "# Reset index\n",
        "df_train.reset_index(drop=True, inplace=True)\n",
        "df_valid.reset_index(drop=True, inplace=True)"
      ],
      "execution_count": 13,
      "outputs": []
    },
    {
      "cell_type": "code",
      "metadata": {
        "colab": {
          "base_uri": "https://localhost:8080/",
          "height": 204
        },
        "id": "W1G9I_QhiZt-",
        "outputId": "98d0638e-b484-41d0-b323-84cdb0ec5b20"
      },
      "source": [
        "df_valid.head(5)"
      ],
      "execution_count": 14,
      "outputs": [
        {
          "output_type": "execute_result",
          "data": {
            "text/html": [
              "<div>\n",
              "<style scoped>\n",
              "    .dataframe tbody tr th:only-of-type {\n",
              "        vertical-align: middle;\n",
              "    }\n",
              "\n",
              "    .dataframe tbody tr th {\n",
              "        vertical-align: top;\n",
              "    }\n",
              "\n",
              "    .dataframe thead th {\n",
              "        text-align: right;\n",
              "    }\n",
              "</style>\n",
              "<table border=\"1\" class=\"dataframe\">\n",
              "  <thead>\n",
              "    <tr style=\"text-align: right;\">\n",
              "      <th></th>\n",
              "      <th>filename</th>\n",
              "      <th>label</th>\n",
              "    </tr>\n",
              "  </thead>\n",
              "  <tbody>\n",
              "    <tr>\n",
              "      <th>0</th>\n",
              "      <td>Image_2177.jpg</td>\n",
              "      <td>female</td>\n",
              "    </tr>\n",
              "    <tr>\n",
              "      <th>1</th>\n",
              "      <td>Image_8340.jpg</td>\n",
              "      <td>male</td>\n",
              "    </tr>\n",
              "    <tr>\n",
              "      <th>2</th>\n",
              "      <td>Image_1630.jpg</td>\n",
              "      <td>male</td>\n",
              "    </tr>\n",
              "    <tr>\n",
              "      <th>3</th>\n",
              "      <td>Image_4889.jpg</td>\n",
              "      <td>female</td>\n",
              "    </tr>\n",
              "    <tr>\n",
              "      <th>4</th>\n",
              "      <td>Image_271.jpg</td>\n",
              "      <td>male</td>\n",
              "    </tr>\n",
              "  </tbody>\n",
              "</table>\n",
              "</div>"
            ],
            "text/plain": [
              "         filename   label\n",
              "0  Image_2177.jpg  female\n",
              "1  Image_8340.jpg    male\n",
              "2  Image_1630.jpg    male\n",
              "3  Image_4889.jpg  female\n",
              "4   Image_271.jpg    male"
            ]
          },
          "metadata": {
            "tags": []
          },
          "execution_count": 14
        }
      ]
    },
    {
      "cell_type": "code",
      "metadata": {
        "colab": {
          "base_uri": "https://localhost:8080/"
        },
        "id": "l0kH9GoOkwXS",
        "outputId": "42bab7cc-d311-450b-d684-89d038b3e567"
      },
      "source": [
        "print((df_train.shape))\n",
        "print((df_valid.shape))"
      ],
      "execution_count": 15,
      "outputs": [
        {
          "output_type": "stream",
          "text": [
            "(7376, 2)\n",
            "(1844, 2)\n"
          ],
          "name": "stdout"
        }
      ]
    },
    {
      "cell_type": "code",
      "metadata": {
        "id": "mD-xfiLD1DyE"
      },
      "source": [
        "df_train['label'].replace(['male','female'],[1, 0], inplace=True)\n",
        "df_valid['label'].replace(['male','female'],[1, 0], inplace=True)"
      ],
      "execution_count": 16,
      "outputs": []
    },
    {
      "cell_type": "code",
      "metadata": {
        "id": "uY8x57ghexRV"
      },
      "source": [
        "# Save train images\n",
        "import shutil\n",
        "\n",
        "\n",
        "for i in range(len(df_train)):\n",
        "  image = df_train.loc[i,'filename']\n",
        "  if df_train.loc[i,'label'] == 0:\n",
        "    shutil.move(home_path + '/train/' + image, female_train_path)\n",
        "  else:\n",
        "    shutil.move(home_path + '/train/' + image, male_train_path)\n",
        "        \n",
        "# Save validation images\n",
        "for i in range(len(df_valid)):\n",
        "\n",
        "    image = df_valid.loc[i,'filename']\n",
        "\n",
        "    if df_valid.loc[i,'label'] == 0:\n",
        "        shutil.move(home_path + '/train/' + image, female_val_path)\n",
        "    else:\n",
        "        shutil.move(home_path + '/train/' + image, male_val_path)\n"
      ],
      "execution_count": 17,
      "outputs": []
    },
    {
      "cell_type": "code",
      "metadata": {
        "id": "kYK1viIauR2V"
      },
      "source": [
        "from keras.models import Sequential\n",
        "from keras.layers import Dropout, Flatten, Dense, Conv2D, MaxPooling2D, BatchNormalization\n",
        "from keras.optimizers import SGD\n",
        "import keras\n",
        "from sklearn.model_selection import train_test_split\n",
        "import cv2\n",
        "import tensorflow as tf\n",
        "from tensorflow.keras.utils import to_categorical"
      ],
      "execution_count": 18,
      "outputs": []
    },
    {
      "cell_type": "code",
      "metadata": {
        "colab": {
          "base_uri": "https://localhost:8080/"
        },
        "id": "p4AEyZMUyUV3",
        "outputId": "62130e3e-8681-4bff-8965-e29a18290f58"
      },
      "source": [
        "vgg_layers = tf.keras.applications.vgg19.VGG19(weights='imagenet', include_top=False, \n",
        "                                               input_shape=(32,32,3), classes = df_train.shape[1])"
      ],
      "execution_count": 19,
      "outputs": [
        {
          "output_type": "stream",
          "text": [
            "Downloading data from https://storage.googleapis.com/tensorflow/keras-applications/vgg19/vgg19_weights_tf_dim_ordering_tf_kernels_notop.h5\n",
            "80142336/80134624 [==============================] - 1s 0us/step\n"
          ],
          "name": "stdout"
        }
      ]
    },
    {
      "cell_type": "code",
      "metadata": {
        "colab": {
          "base_uri": "https://localhost:8080/"
        },
        "id": "b1B5t6x9y2ll",
        "outputId": "5503b0c3-ebb9-44b4-a844-7870c2dc8109"
      },
      "source": [
        "for layer in vgg_layers.layers:\n",
        "    layer.trainable = True\n",
        "\n",
        "# Check the trainable status of the individual layers\n",
        "for layer in vgg_layers.layers:\n",
        "    print(layer, layer.trainable)"
      ],
      "execution_count": 30,
      "outputs": [
        {
          "output_type": "stream",
          "text": [
            "<tensorflow.python.keras.engine.input_layer.InputLayer object at 0x7eff15a68e90> True\n",
            "<tensorflow.python.keras.layers.convolutional.Conv2D object at 0x7eff15a93cd0> True\n",
            "<tensorflow.python.keras.layers.convolutional.Conv2D object at 0x7eff15a32510> True\n",
            "<tensorflow.python.keras.layers.pooling.MaxPooling2D object at 0x7eff15a02cd0> True\n",
            "<tensorflow.python.keras.layers.convolutional.Conv2D object at 0x7efec81c0410> True\n",
            "<tensorflow.python.keras.layers.convolutional.Conv2D object at 0x7efec81c49d0> True\n",
            "<tensorflow.python.keras.layers.pooling.MaxPooling2D object at 0x7efec81c7490> True\n",
            "<tensorflow.python.keras.layers.convolutional.Conv2D object at 0x7efec81c9c10> True\n",
            "<tensorflow.python.keras.layers.convolutional.Conv2D object at 0x7efec81d4150> True\n",
            "<tensorflow.python.keras.layers.convolutional.Conv2D object at 0x7efec81c7e50> True\n",
            "<tensorflow.python.keras.layers.convolutional.Conv2D object at 0x7efec81c7750> True\n",
            "<tensorflow.python.keras.layers.pooling.MaxPooling2D object at 0x7efec816b250> True\n",
            "<tensorflow.python.keras.layers.convolutional.Conv2D object at 0x7efec81e6690> True\n",
            "<tensorflow.python.keras.layers.convolutional.Conv2D object at 0x7efec81da890> True\n",
            "<tensorflow.python.keras.layers.convolutional.Conv2D object at 0x7efec8172dd0> True\n",
            "<tensorflow.python.keras.layers.convolutional.Conv2D object at 0x7efec8180e10> True\n",
            "<tensorflow.python.keras.layers.pooling.MaxPooling2D object at 0x7efec8170b10> True\n",
            "<tensorflow.python.keras.layers.convolutional.Conv2D object at 0x7efec817edd0> True\n",
            "<tensorflow.python.keras.layers.convolutional.Conv2D object at 0x7efec818a550> True\n",
            "<tensorflow.python.keras.layers.convolutional.Conv2D object at 0x7efec8185610> True\n",
            "<tensorflow.python.keras.layers.convolutional.Conv2D object at 0x7efec81980d0> True\n",
            "<tensorflow.python.keras.layers.pooling.MaxPooling2D object at 0x7efec81a1150> True\n"
          ],
          "name": "stdout"
        }
      ]
    },
    {
      "cell_type": "code",
      "metadata": {
        "colab": {
          "base_uri": "https://localhost:8080/",
          "height": 1000
        },
        "id": "eHMzmZb1WI6C",
        "outputId": "ae431f9c-713c-4927-e8ba-e5e7b3e22670"
      },
      "source": [
        "# 1-vgg block baseline model for the dogs vs cats dataset\n",
        "import sys\n",
        "from matplotlib import pyplot\n",
        "from keras.models import Sequential\n",
        "from keras.layers import Conv2D\n",
        "from keras.layers import MaxPooling2D\n",
        "from keras.layers import Dense\n",
        "from keras.layers import Flatten\n",
        "from keras.optimizers import SGD\n",
        "from keras.preprocessing.image import ImageDataGenerator\n",
        "# define cnn model\n",
        "def define_model():\n",
        "  model = tf.keras.models.Sequential()\n",
        "  # Add the vgg convolutional base model\n",
        "  model.add(vgg_layers)\n",
        "  # add flatten layer\n",
        "  model.add(tf.keras.layers.Flatten())\n",
        "  \n",
        "  # add dense layers with some dropout\n",
        "  model.add(tf.keras.layers.Dense(256, activation='relu'))\n",
        "  model.add(tf.keras.layers.Dropout(rate=0.3))\n",
        "  model.add(tf.keras.layers.Dense(128, activation='relu'))\n",
        "  model.add(tf.keras.layers.Dropout(rate=0.3))\n",
        "\n",
        "  # add output layer\n",
        "  model.add(tf.keras.layers.Dense(2, activation='softmax'))\n",
        "  opt = SGD(learning_rate=0.001, momentum=0.9)\n",
        "  model.compile(optimizer=opt, loss='categorical_crossentropy', metrics=['accuracy'])\n",
        "  return model\n",
        "# plot diagnostic learning curves\n",
        "def summarize_diagnostics(history):\n",
        "  # plot loss\n",
        "  pyplot.subplot(211)\n",
        "  pyplot.title('Cross Entropy Loss')\n",
        "  pyplot.plot(history.history['loss'], color='blue', label='train')\n",
        "  pyplot.plot(history.history['val_loss'], color='orange', label='valid')\n",
        "  # plot accuracy\n",
        "  pyplot.subplot(212)\n",
        "  pyplot.title('Classification Accuracy')\n",
        "  pyplot.plot(history.history['accuracy'], color='blue', label='train')\n",
        "  pyplot.plot(history.history['val_accuracy'], color='orange', label='valid')\n",
        "\n",
        "# run the test harness for evaluating a model\n",
        "def run_test_harness():\n",
        "  # define model\n",
        "  model = define_model()\n",
        "  # create data generator\n",
        "  datagen = ImageDataGenerator(rescale=1.0/255.0)\n",
        "  \n",
        "  #rmtrainpath = '/content/drive/MyDrive/Dphi_Hackathon/eye_gender_data_2/train/.ipynb_checkpoints'\n",
        "  #if(rmtrainpath):\n",
        "  #  os.rmdir(rmtrainpath)\n",
        "  #rmvalpath = '/content/drive/MyDrive/Dphi_Hackathon/eye_gender_data_2/valid/.ipynb_checkpoints'\n",
        "  #if(rmvalpath):\n",
        "  #  os.rmdir(rmvalpath)\n",
        "  # prepare iterators\n",
        "  train_it = datagen.flow_from_directory('/content/drive/MyDrive/Dphi_Hackathon/eye_gender_data_2/train',\n",
        "                                         batch_size=64, target_size=(32, 32))\n",
        "  val_it = datagen.flow_from_directory('/content/drive/MyDrive/Dphi_Hackathon/eye_gender_data_2/valid',\n",
        "                                        batch_size=64, target_size=(32, 32))\n",
        "  # fit model\n",
        "  history = model.fit(train_it, steps_per_epoch=len(train_it), validation_data=val_it, validation_steps=len(val_it), epochs=30, verbose=1)\n",
        "  model.save('/content/drive/MyDrive/Dphi_Hackathon/eye_gender_data_2/test_model_1.h5')\n",
        "  summarize_diagnostics(history)\n",
        "# entry point, run the test harness\n",
        "run_test_harness()"
      ],
      "execution_count": 31,
      "outputs": [
        {
          "output_type": "stream",
          "text": [
            "Found 7376 images belonging to 2 classes.\n",
            "Found 1844 images belonging to 2 classes.\n",
            "Epoch 1/30\n",
            "116/116 [==============================] - 15s 105ms/step - loss: 0.5051 - accuracy: 0.7476 - val_loss: 0.3075 - val_accuracy: 0.8633\n",
            "Epoch 2/30\n",
            "116/116 [==============================] - 12s 103ms/step - loss: 0.3190 - accuracy: 0.8717 - val_loss: 0.1951 - val_accuracy: 0.9235\n",
            "Epoch 3/30\n",
            "116/116 [==============================] - 13s 109ms/step - loss: 0.2042 - accuracy: 0.9239 - val_loss: 0.2519 - val_accuracy: 0.8997\n",
            "Epoch 4/30\n",
            "116/116 [==============================] - 12s 105ms/step - loss: 0.2006 - accuracy: 0.9264 - val_loss: 0.1597 - val_accuracy: 0.9371\n",
            "Epoch 5/30\n",
            "116/116 [==============================] - 12s 100ms/step - loss: 0.1675 - accuracy: 0.9367 - val_loss: 0.1496 - val_accuracy: 0.9420\n",
            "Epoch 6/30\n",
            "116/116 [==============================] - 12s 99ms/step - loss: 0.1463 - accuracy: 0.9451 - val_loss: 0.1840 - val_accuracy: 0.9219\n",
            "Epoch 7/30\n",
            "116/116 [==============================] - 12s 100ms/step - loss: 0.1313 - accuracy: 0.9530 - val_loss: 0.1403 - val_accuracy: 0.9458\n",
            "Epoch 8/30\n",
            "116/116 [==============================] - 12s 105ms/step - loss: 0.1152 - accuracy: 0.9580 - val_loss: 0.1302 - val_accuracy: 0.9496\n",
            "Epoch 9/30\n",
            "116/116 [==============================] - 12s 106ms/step - loss: 0.0937 - accuracy: 0.9668 - val_loss: 0.1410 - val_accuracy: 0.9441\n",
            "Epoch 10/30\n",
            "116/116 [==============================] - 12s 102ms/step - loss: 0.0824 - accuracy: 0.9734 - val_loss: 0.1804 - val_accuracy: 0.9322\n",
            "Epoch 11/30\n",
            "116/116 [==============================] - 12s 106ms/step - loss: 0.0686 - accuracy: 0.9763 - val_loss: 0.1893 - val_accuracy: 0.9420\n",
            "Epoch 12/30\n",
            "116/116 [==============================] - 12s 106ms/step - loss: 0.0647 - accuracy: 0.9789 - val_loss: 0.1478 - val_accuracy: 0.9517\n",
            "Epoch 13/30\n",
            "116/116 [==============================] - 12s 100ms/step - loss: 0.0508 - accuracy: 0.9837 - val_loss: 0.1411 - val_accuracy: 0.9512\n",
            "Epoch 14/30\n",
            "116/116 [==============================] - 11s 99ms/step - loss: 0.0487 - accuracy: 0.9845 - val_loss: 0.1410 - val_accuracy: 0.9588\n",
            "Epoch 15/30\n",
            "116/116 [==============================] - 11s 99ms/step - loss: 0.0380 - accuracy: 0.9859 - val_loss: 0.2344 - val_accuracy: 0.9333\n",
            "Epoch 16/30\n",
            "116/116 [==============================] - 12s 103ms/step - loss: 0.0587 - accuracy: 0.9798 - val_loss: 0.1671 - val_accuracy: 0.9452\n",
            "Epoch 17/30\n",
            "116/116 [==============================] - 12s 107ms/step - loss: 0.0410 - accuracy: 0.9860 - val_loss: 0.1869 - val_accuracy: 0.9479\n",
            "Epoch 18/30\n",
            "116/116 [==============================] - 12s 103ms/step - loss: 0.0224 - accuracy: 0.9939 - val_loss: 0.1555 - val_accuracy: 0.9544\n",
            "Epoch 19/30\n",
            "116/116 [==============================] - 12s 100ms/step - loss: 0.0245 - accuracy: 0.9917 - val_loss: 0.1876 - val_accuracy: 0.9501\n",
            "Epoch 20/30\n",
            "116/116 [==============================] - 12s 101ms/step - loss: 0.0323 - accuracy: 0.9887 - val_loss: 0.1587 - val_accuracy: 0.9577\n",
            "Epoch 21/30\n",
            "116/116 [==============================] - 12s 99ms/step - loss: 0.0468 - accuracy: 0.9839 - val_loss: 0.1479 - val_accuracy: 0.9544\n",
            "Epoch 22/30\n",
            "116/116 [==============================] - 12s 108ms/step - loss: 0.0193 - accuracy: 0.9939 - val_loss: 0.1655 - val_accuracy: 0.9566\n",
            "Epoch 23/30\n",
            "116/116 [==============================] - 12s 106ms/step - loss: 0.0170 - accuracy: 0.9943 - val_loss: 0.1942 - val_accuracy: 0.9544\n",
            "Epoch 24/30\n",
            "116/116 [==============================] - 12s 100ms/step - loss: 0.0268 - accuracy: 0.9906 - val_loss: 0.2023 - val_accuracy: 0.9496\n",
            "Epoch 25/30\n",
            "116/116 [==============================] - 12s 100ms/step - loss: 0.0062 - accuracy: 0.9984 - val_loss: 0.1973 - val_accuracy: 0.9507\n",
            "Epoch 26/30\n",
            "116/116 [==============================] - 12s 101ms/step - loss: 0.0161 - accuracy: 0.9951 - val_loss: 0.2160 - val_accuracy: 0.9414\n",
            "Epoch 27/30\n",
            "116/116 [==============================] - 12s 104ms/step - loss: 0.0079 - accuracy: 0.9978 - val_loss: 0.2264 - val_accuracy: 0.9539\n",
            "Epoch 28/30\n",
            "116/116 [==============================] - 12s 107ms/step - loss: 0.0124 - accuracy: 0.9957 - val_loss: 0.1871 - val_accuracy: 0.9615\n",
            "Epoch 29/30\n",
            "116/116 [==============================] - 12s 103ms/step - loss: 0.0021 - accuracy: 0.9996 - val_loss: 0.2357 - val_accuracy: 0.9517\n",
            "Epoch 30/30\n",
            "116/116 [==============================] - 12s 101ms/step - loss: 0.0338 - accuracy: 0.9885 - val_loss: 0.1784 - val_accuracy: 0.9485\n"
          ],
          "name": "stdout"
        },
        {
          "output_type": "display_data",
          "data": {
            "image/png": "[encoded data removed]",
            "text/plain": [
              "<Figure size 432x288 with 2 Axes>"
            ]
          },
          "metadata": {
            "tags": [],
            "needs_background": "light"
          }
        }
      ]
    },
    {
      "cell_type": "code",
      "metadata": {
        "id": "b4Q26EnJaxko"
      },
      "source": [
        "import pandas as pd\n",
        "test = pd.read_csv(home_path + '/Testing_set.csv')"
      ],
      "execution_count": 32,
      "outputs": []
    },
    {
      "cell_type": "code",
      "metadata": {
        "colab": {
          "base_uri": "https://localhost:8080/"
        },
        "id": "WG7c23H2axfd",
        "outputId": "440b10ba-1f0f-4530-b31b-6fccb9713479"
      },
      "source": [
        "from keras.preprocessing import image\n",
        "test_image = []\n",
        "for i in tqdm(range(test.shape[0])):\n",
        "    img = image.load_img('/content/drive/MyDrive/Dphi_Hackathon/eye_gender_data_2/test/' + test['filename'][i],target_size=(32,32,3),grayscale=False)\n",
        "    img = image.img_to_array(img)\n",
        "    test_image.append(img)\n",
        "X_test = np.array(test_image, dtype='float') / 255.0"
      ],
      "execution_count": 34,
      "outputs": [
        {
          "output_type": "stream",
          "text": [
            "100%|██████████| 2305/2305 [13:44<00:00,  2.80it/s]\n"
          ],
          "name": "stderr"
        }
      ]
    },
    {
      "cell_type": "code",
      "metadata": {
        "colab": {
          "base_uri": "https://localhost:8080/"
        },
        "id": "o4s5tQS1axdH",
        "outputId": "34f2807f-1c4d-479f-b260-f99704da4c88"
      },
      "source": [
        "#Making prediction\n",
        "from keras.models import load_model\n",
        "model = load_model('/content/drive/MyDrive/Dphi_Hackathon/eye_gender_data_2/test_model_1.h5')\n",
        "y_pred = model.predict(X_test)\n",
        "y_pred[:5]"
      ],
      "execution_count": 35,
      "outputs": [
        {
          "output_type": "execute_result",
          "data": {
            "text/plain": [
              "array([[1.1183914e-04, 9.9988818e-01],\n",
              "       [6.5423123e-04, 9.9934572e-01],\n",
              "       [1.6710615e-03, 9.9832898e-01],\n",
              "       [1.0992861e-02, 9.8900712e-01],\n",
              "       [2.9965902e-05, 9.9997008e-01]], dtype=float32)"
            ]
          },
          "metadata": {
            "tags": []
          },
          "execution_count": 35
        }
      ]
    },
    {
      "cell_type": "code",
      "metadata": {
        "colab": {
          "base_uri": "https://localhost:8080/"
        },
        "id": "8cX6cz6uaxZa",
        "outputId": "22b5e8ae-7023-4401-fde8-5b1f7ba220fe"
      },
      "source": [
        "prediction_labels = np.argmax(y_pred, axis=1)\n",
        "prediction_labels[:5]"
      ],
      "execution_count": 36,
      "outputs": [
        {
          "output_type": "execute_result",
          "data": {
            "text/plain": [
              "array([1, 1, 1, 1, 1])"
            ]
          },
          "metadata": {
            "tags": []
          },
          "execution_count": 36
        }
      ]
    },
    {
      "cell_type": "code",
      "metadata": {
        "colab": {
          "base_uri": "https://localhost:8080/"
        },
        "id": "kM6zMmdNaxVN",
        "outputId": "907a0f44-6406-42ab-aa78-a856db5b64cd"
      },
      "source": [
        "sample = pd.read_csv(home_path + '/sample_submission.csv')\n",
        "#print(sample)\n",
        "sample['label'] = prediction_labels\n",
        "#sample.to_csv(data_folder + '/sample_submission1.csv', header=True, index=False)\n",
        "#sample_cnn1 = pd.read_csv(data_folder + '/sample_submission1.csv')\n",
        "sample['label'].replace(0,'female',inplace=True)\n",
        "sample['label'].replace(1,'male',inplace=True)\n",
        "print(sample)\n",
        "sample.to_csv(home_path + '/sample_submission_N2.csv',header=True,index=False)"
      ],
      "execution_count": 38,
      "outputs": [
        {
          "output_type": "stream",
          "text": [
            "       label\n",
            "0       male\n",
            "1       male\n",
            "2       male\n",
            "3       male\n",
            "4       male\n",
            "...      ...\n",
            "2300  female\n",
            "2301  female\n",
            "2302    male\n",
            "2303    male\n",
            "2304    male\n",
            "\n",
            "[2305 rows x 1 columns]\n"
          ],
          "name": "stdout"
        }
      ]
    },
    {
      "cell_type": "code",
      "metadata": {
        "id": "eyj1YW8haxRh"
      },
      "source": [
        ""
      ],
      "execution_count": null,
      "outputs": []
    },
    {
      "cell_type": "markdown",
      "metadata": {
        "id": "KsRyWNIpT1fB"
      },
      "source": [
        "Accuracy: 95.1844"
      ]
    },
    {
      "cell_type": "code",
      "metadata": {
        "id": "QrVj9-esT6th"
      },
      "source": [
        ""
      ],
      "execution_count": null,
      "outputs": []
    }
  ]
}