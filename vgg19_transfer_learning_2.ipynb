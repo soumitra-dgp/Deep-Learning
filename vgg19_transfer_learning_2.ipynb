{
  "nbformat": 4,
  "nbformat_minor": 0,
  "metadata": {
    "colab": {
      "name": "vgg19_transfer_learning_2.ipynb",
      "provenance": [],
      "collapsed_sections": [],
      "authorship_tag": "ABX9TyMzWZQYc6dXl2nXcs/8QbJC",
      "include_colab_link": true
    },
    "kernelspec": {
      "name": "python3",
      "display_name": "Python 3"
    },
    "language_info": {
      "name": "python"
    }
  },
  "cells": [
    {
      "cell_type": "markdown",
      "metadata": {
        "id": "view-in-github",
        "colab_type": "text"
      },
      "source": [
        "<a href=\"https://colab.research.google.com/github/soumitra-dgp/Deep-Learning/blob/main/vgg19_transfer_learning_2.ipynb\" target=\"_parent\"><img src=\"https://colab.research.google.com/assets/colab-badge.svg\" alt=\"Open In Colab\"/></a>"
      ]
    },
    {
      "cell_type": "markdown",
      "metadata": {
        "id": "lxJpSil7YqbD"
      },
      "source": [
        "# Gender Classification from Eye Images"
      ]
    },
    {
      "cell_type": "markdown",
      "metadata": {
        "id": "EJh2rQSaYSNk"
      },
      "source": [
        "###This is a deep learning project for classifying gender i.e. 'male' and 'female' from eye images."
      ]
    },
    {
      "cell_type": "markdown",
      "metadata": {
        "id": "AIKyXxSTY1as"
      },
      "source": [
        "### Importing required libraries"
      ]
    },
    {
      "cell_type": "code",
      "metadata": {
        "id": "_hx_W8rYcIV7"
      },
      "source": [
        "#importing other required libraries\n",
        "import numpy as np\n",
        "import pandas as pd\n",
        "from sklearn.utils.multiclass import unique_labels\n",
        "import os\n",
        "import matplotlib.pyplot as plt\n",
        "import matplotlib.image as mpimg\n",
        "import seaborn as sns\n",
        "from tqdm import tqdm\n",
        "import itertools\n",
        "from sklearn.model_selection import train_test_split\n",
        "from sklearn.metrics import confusion_matrix\n",
        "from keras import Sequential\n",
        "import tensorflow as tf\n",
        "from tensorflow.keras.applications.vgg19 import VGG19 #For Transfer Learning\n",
        "from keras.preprocessing.image import ImageDataGenerator\n",
        "from keras.optimizers import SGD,Adam\n",
        "from keras.callbacks import ReduceLROnPlateau\n",
        "from keras.layers import Flatten,Dense,BatchNormalization,Activation,Dropout\n",
        "from tensorflow.keras.utils import to_categorical"
      ],
      "execution_count": null,
      "outputs": []
    },
    {
      "cell_type": "markdown",
      "metadata": {
        "id": "gaiJvvu8X7Ye"
      },
      "source": [
        "# Importing image folder from google drive to google colab"
      ]
    },
    {
      "cell_type": "code",
      "metadata": {
        "colab": {
          "base_uri": "https://localhost:8080/"
        },
        "id": "iR_5ftN3cKE-",
        "outputId": "a3d14b28-1d08-4e27-b1cf-77a0f0b01715"
      },
      "source": [
        "from google.colab import drive\n",
        "drive.mount('/content/drive')"
      ],
      "execution_count": null,
      "outputs": [
        {
          "output_type": "stream",
          "text": [
            "Mounted at /content/drive\n"
          ],
          "name": "stdout"
        }
      ]
    },
    {
      "cell_type": "markdown",
      "metadata": {
        "id": "FP5FB77xYOYZ"
      },
      "source": [
        "# Creating target label sub folders"
      ]
    },
    {
      "cell_type": "markdown",
      "metadata": {
        "id": "Lw9kJ0CNZDgY"
      },
      "source": [
        "> ###### The images are given in sub folders 'train' and 'test' along with taining and testing labels in files Training_set.csv and Testing_set.csv. Training_set.csv contains filename and corresponding labels, i.e. 'male' or 'female' aligned with the image files in 'train' directory. Testing_set.csv actually empty, i.e. testing images need to be classified in genders. sample_submission.csv contains the format for submitting the predicted labels. <br>\n",
        "\n",
        "> ###### Here, a part of 'train' images are moved to a newly created sub folder 'valid'. Both in 'train' and 'valid' folders, two more sub folders named 'male' and 'female' are created. Images in 'train' folder are moved to 'male' and 'female' sub folder according to the labels given in Training_set.csv. The same thing is done for 'valid' sub folder.  \n",
        "---\n",
        "> ###### So the directory structure is as below\n",
        "---![image.png](data:image/png;base64,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)\n",
        "\n",
        "\n",
        "---\n",
        "\n"
      ]
    },
    {
      "cell_type": "markdown",
      "metadata": {
        "id": "SEA5Xbnaj9Na"
      },
      "source": [
        "# Creating 'valid' folder and 'male' and 'female' subfolders in 'train' and 'valid'"
      ]
    },
    {
      "cell_type": "code",
      "metadata": {
        "id": "tK2s9KRAdzTE"
      },
      "source": [
        "# Home directory\n",
        "home_path = r'/content/drive/MyDrive/Dphi_Hackathon/eye_gender_data_2'\n",
        "\n",
        "# Create train and validation directories\n",
        "#train_path = os.path.join(home_path,'train')\n",
        "#os.mkdir(train_path)\n",
        "val_path = os.path.join(home_path,'valid')\n",
        "os.mkdir(val_path)\n",
        "\n",
        "# Create sub-directories\n",
        "male_train_path = os.path.join(home_path + r'/train','male')\n",
        "os.mkdir(male_train_path)\n",
        "\n",
        "female_train_path = os.path.join(home_path + r'/train','female')\n",
        "os.mkdir(female_train_path)\n",
        "\n",
        "male_val_path = os.path.join(home_path + r'/valid','male')\n",
        "os.mkdir(male_val_path)\n",
        "\n",
        "female_val_path = os.path.join(home_path + r'/valid','female')\n",
        "os.mkdir(female_val_path)"
      ],
      "execution_count": null,
      "outputs": []
    },
    {
      "cell_type": "markdown",
      "metadata": {
        "id": "v9CuF5-goQnD"
      },
      "source": [
        "# Processing training labels"
      ]
    },
    {
      "cell_type": "code",
      "metadata": {
        "id": "TI-kT6h8enwF"
      },
      "source": [
        "# Original df\n",
        "df = pd.read_csv(home_path + r'/Training_set.csv')"
      ],
      "execution_count": null,
      "outputs": []
    },
    {
      "cell_type": "code",
      "metadata": {
        "colab": {
          "base_uri": "https://localhost:8080/",
          "height": 204
        },
        "id": "-XgL_67zbZ8l",
        "outputId": "aacefba6-eb4a-497d-be3f-a8725da9f422"
      },
      "source": [
        "df.head(5)"
      ],
      "execution_count": null,
      "outputs": [
        {
          "output_type": "execute_result",
          "data": {
            "text/html": [
              "<div>\n",
              "<style scoped>\n",
              "    .dataframe tbody tr th:only-of-type {\n",
              "        vertical-align: middle;\n",
              "    }\n",
              "\n",
              "    .dataframe tbody tr th {\n",
              "        vertical-align: top;\n",
              "    }\n",
              "\n",
              "    .dataframe thead th {\n",
              "        text-align: right;\n",
              "    }\n",
              "</style>\n",
              "<table border=\"1\" class=\"dataframe\">\n",
              "  <thead>\n",
              "    <tr style=\"text-align: right;\">\n",
              "      <th></th>\n",
              "      <th>filename</th>\n",
              "      <th>label</th>\n",
              "    </tr>\n",
              "  </thead>\n",
              "  <tbody>\n",
              "    <tr>\n",
              "      <th>0</th>\n",
              "      <td>Image_1.jpg</td>\n",
              "      <td>male</td>\n",
              "    </tr>\n",
              "    <tr>\n",
              "      <th>1</th>\n",
              "      <td>Image_2.jpg</td>\n",
              "      <td>female</td>\n",
              "    </tr>\n",
              "    <tr>\n",
              "      <th>2</th>\n",
              "      <td>Image_3.jpg</td>\n",
              "      <td>female</td>\n",
              "    </tr>\n",
              "    <tr>\n",
              "      <th>3</th>\n",
              "      <td>Image_4.jpg</td>\n",
              "      <td>female</td>\n",
              "    </tr>\n",
              "    <tr>\n",
              "      <th>4</th>\n",
              "      <td>Image_5.jpg</td>\n",
              "      <td>male</td>\n",
              "    </tr>\n",
              "  </tbody>\n",
              "</table>\n",
              "</div>"
            ],
            "text/plain": [
              "      filename   label\n",
              "0  Image_1.jpg    male\n",
              "1  Image_2.jpg  female\n",
              "2  Image_3.jpg  female\n",
              "3  Image_4.jpg  female\n",
              "4  Image_5.jpg    male"
            ]
          },
          "metadata": {
            "tags": []
          },
          "execution_count": 7
        }
      ]
    },
    {
      "cell_type": "markdown",
      "metadata": {
        "id": "2o78LMrboZZa"
      },
      "source": [
        "# Separating training image filenames and training labels"
      ]
    },
    {
      "cell_type": "code",
      "metadata": {
        "id": "TKd8ul0pexrV"
      },
      "source": [
        "# Images and Labels\n",
        "X = df.loc[:,'filename']\n",
        "y = df.loc[:,'label']"
      ],
      "execution_count": null,
      "outputs": []
    },
    {
      "cell_type": "code",
      "metadata": {
        "colab": {
          "base_uri": "https://localhost:8080/"
        },
        "id": "QYN5aKigblBE",
        "outputId": "59053a4f-e73f-483c-e6cc-4eaf200eccd1"
      },
      "source": [
        "y.head(5)"
      ],
      "execution_count": null,
      "outputs": [
        {
          "output_type": "execute_result",
          "data": {
            "text/plain": [
              "0      male\n",
              "1    female\n",
              "2    female\n",
              "3    female\n",
              "4      male\n",
              "Name: label, dtype: object"
            ]
          },
          "metadata": {
            "tags": []
          },
          "execution_count": 9
        }
      ]
    },
    {
      "cell_type": "markdown",
      "metadata": {
        "id": "ABBud_rCokli"
      },
      "source": [
        "# Training and validation image filenames and labels are divided into train and valid "
      ]
    },
    {
      "cell_type": "code",
      "metadata": {
        "id": "0srztt6sexkN"
      },
      "source": [
        "# Train-Test splitfor train and validation images\n",
        "train_x, val_x, train_y, val_y = train_test_split(X, y, test_size = 0.2, random_state = 27, stratify=y)"
      ],
      "execution_count": null,
      "outputs": []
    },
    {
      "cell_type": "code",
      "metadata": {
        "colab": {
          "base_uri": "https://localhost:8080/"
        },
        "id": "B9fvWfKjiMf7",
        "outputId": "4220a8b0-18a7-4ed7-8b85-1f34d0a2df2f"
      },
      "source": [
        "train_y"
      ],
      "execution_count": null,
      "outputs": [
        {
          "output_type": "execute_result",
          "data": {
            "text/plain": [
              "8464      male\n",
              "8750    female\n",
              "277       male\n",
              "5267    female\n",
              "990     female\n",
              "         ...  \n",
              "7855    female\n",
              "1683      male\n",
              "6993      male\n",
              "1401      male\n",
              "3470    female\n",
              "Name: label, Length: 7376, dtype: object"
            ]
          },
          "metadata": {
            "tags": []
          },
          "execution_count": 11
        }
      ]
    },
    {
      "cell_type": "code",
      "metadata": {
        "colab": {
          "base_uri": "https://localhost:8080/"
        },
        "id": "lRJVKOLmkZtQ",
        "outputId": "4a7fa667-1bb1-4445-b3e7-3f298ce23161"
      },
      "source": [
        "print((train_x.shape,train_y.shape))\n",
        "print((val_x.shape,val_y.shape))"
      ],
      "execution_count": null,
      "outputs": [
        {
          "output_type": "stream",
          "text": [
            "((7376,), (7376,))\n",
            "((1844,), (1844,))\n"
          ],
          "name": "stdout"
        }
      ]
    },
    {
      "cell_type": "markdown",
      "metadata": {
        "id": "zE9U_hw-rg2j"
      },
      "source": [
        "###### Two new dataframes are formed and populated with image filenames and corresponding labels for 'train' and 'valid' directory"
      ]
    },
    {
      "cell_type": "code",
      "metadata": {
        "id": "EBxA3Q9hexct"
      },
      "source": [
        "# Train df\n",
        "df_train = pd.DataFrame(columns=['filename','label'])\n",
        "df_train['filename'] = train_x\n",
        "df_train['label'] = train_y\n",
        "\n",
        "# Validation df\n",
        "df_valid= pd.DataFrame(columns=['filename','label'])\n",
        "df_valid['filename'] = val_x\n",
        "df_valid['label'] = val_y\n",
        "\n",
        "# Reset index\n",
        "df_train.reset_index(drop=True, inplace=True)\n",
        "df_valid.reset_index(drop=True, inplace=True)"
      ],
      "execution_count": null,
      "outputs": []
    },
    {
      "cell_type": "code",
      "metadata": {
        "colab": {
          "base_uri": "https://localhost:8080/",
          "height": 204
        },
        "id": "W1G9I_QhiZt-",
        "outputId": "98d0638e-b484-41d0-b323-84cdb0ec5b20"
      },
      "source": [
        "df_valid.head(5)"
      ],
      "execution_count": null,
      "outputs": [
        {
          "output_type": "execute_result",
          "data": {
            "text/html": [
              "<div>\n",
              "<style scoped>\n",
              "    .dataframe tbody tr th:only-of-type {\n",
              "        vertical-align: middle;\n",
              "    }\n",
              "\n",
              "    .dataframe tbody tr th {\n",
              "        vertical-align: top;\n",
              "    }\n",
              "\n",
              "    .dataframe thead th {\n",
              "        text-align: right;\n",
              "    }\n",
              "</style>\n",
              "<table border=\"1\" class=\"dataframe\">\n",
              "  <thead>\n",
              "    <tr style=\"text-align: right;\">\n",
              "      <th></th>\n",
              "      <th>filename</th>\n",
              "      <th>label</th>\n",
              "    </tr>\n",
              "  </thead>\n",
              "  <tbody>\n",
              "    <tr>\n",
              "      <th>0</th>\n",
              "      <td>Image_2177.jpg</td>\n",
              "      <td>female</td>\n",
              "    </tr>\n",
              "    <tr>\n",
              "      <th>1</th>\n",
              "      <td>Image_8340.jpg</td>\n",
              "      <td>male</td>\n",
              "    </tr>\n",
              "    <tr>\n",
              "      <th>2</th>\n",
              "      <td>Image_1630.jpg</td>\n",
              "      <td>male</td>\n",
              "    </tr>\n",
              "    <tr>\n",
              "      <th>3</th>\n",
              "      <td>Image_4889.jpg</td>\n",
              "      <td>female</td>\n",
              "    </tr>\n",
              "    <tr>\n",
              "      <th>4</th>\n",
              "      <td>Image_271.jpg</td>\n",
              "      <td>male</td>\n",
              "    </tr>\n",
              "  </tbody>\n",
              "</table>\n",
              "</div>"
            ],
            "text/plain": [
              "         filename   label\n",
              "0  Image_2177.jpg  female\n",
              "1  Image_8340.jpg    male\n",
              "2  Image_1630.jpg    male\n",
              "3  Image_4889.jpg  female\n",
              "4   Image_271.jpg    male"
            ]
          },
          "metadata": {
            "tags": []
          },
          "execution_count": 14
        }
      ]
    },
    {
      "cell_type": "code",
      "metadata": {
        "colab": {
          "base_uri": "https://localhost:8080/"
        },
        "id": "l0kH9GoOkwXS",
        "outputId": "42bab7cc-d311-450b-d684-89d038b3e567"
      },
      "source": [
        "print((df_train.shape))\n",
        "print((df_valid.shape))"
      ],
      "execution_count": null,
      "outputs": [
        {
          "output_type": "stream",
          "text": [
            "(7376, 2)\n",
            "(1844, 2)\n"
          ],
          "name": "stdout"
        }
      ]
    },
    {
      "cell_type": "markdown",
      "metadata": {
        "id": "FrP2cNqQr7SS"
      },
      "source": [
        "###### In both the dataframes, 'male' labels are replaced with 1 and 'female' labels are replaced with 0"
      ]
    },
    {
      "cell_type": "code",
      "metadata": {
        "id": "mD-xfiLD1DyE"
      },
      "source": [
        "df_train['label'].replace(['male','female'],[1, 0], inplace=True)\n",
        "df_valid['label'].replace(['male','female'],[1, 0], inplace=True)"
      ],
      "execution_count": null,
      "outputs": []
    },
    {
      "cell_type": "markdown",
      "metadata": {
        "id": "0eZWjpMuyQON"
      },
      "source": [
        "###### According to label values (1 for 'male' and 0 for 'female') df_train and df_valid, corresponding images are moved to male and female sub folders in train and valid directory "
      ]
    },
    {
      "cell_type": "code",
      "metadata": {
        "id": "uY8x57ghexRV"
      },
      "source": [
        "# Save train images\n",
        "import shutil\n",
        "\n",
        "\n",
        "for i in range(len(df_train)):\n",
        "  image = df_train.loc[i,'filename']\n",
        "  if df_train.loc[i,'label'] == 0:\n",
        "    shutil.move(home_path + '/train/' + image, female_train_path)\n",
        "  else:\n",
        "    shutil.move(home_path + '/train/' + image, male_train_path)\n",
        "        \n",
        "# Save validation images\n",
        "for i in range(len(df_valid)):\n",
        "\n",
        "    image = df_valid.loc[i,'filename']\n",
        "\n",
        "    if df_valid.loc[i,'label'] == 0:\n",
        "        shutil.move(home_path + '/train/' + image, female_val_path)\n",
        "    else:\n",
        "        shutil.move(home_path + '/train/' + image, male_val_path)\n"
      ],
      "execution_count": null,
      "outputs": []
    },
    {
      "cell_type": "code",
      "metadata": {
        "id": "kYK1viIauR2V"
      },
      "source": [
        "from keras.models import Sequential\n",
        "from keras.layers import Dropout, Flatten, Dense, Conv2D, MaxPooling2D, BatchNormalization\n",
        "from keras.optimizers import SGD\n",
        "import keras\n",
        "from sklearn.model_selection import train_test_split\n",
        "import cv2\n",
        "import tensorflow as tf\n",
        "from tensorflow.keras.utils import to_categorical"
      ],
      "execution_count": null,
      "outputs": []
    },
    {
      "cell_type": "markdown",
      "metadata": {
        "id": "uPO_v5XG2tEW"
      },
      "source": [
        "# VGG19 model is downloaded  "
      ]
    },
    {
      "cell_type": "code",
      "metadata": {
        "colab": {
          "base_uri": "https://localhost:8080/"
        },
        "id": "p4AEyZMUyUV3",
        "outputId": "62130e3e-8681-4bff-8965-e29a18290f58"
      },
      "source": [
        "vgg_layers = tf.keras.applications.vgg19.VGG19(weights='imagenet', include_top=False, \n",
        "                                               input_shape=(32,32,3), classes = df_train.shape[1])"
      ],
      "execution_count": null,
      "outputs": [
        {
          "output_type": "stream",
          "text": [
            "Downloading data from https://storage.googleapis.com/tensorflow/keras-applications/vgg19/vgg19_weights_tf_dim_ordering_tf_kernels_notop.h5\n",
            "80142336/80134624 [==============================] - 1s 0us/step\n"
          ],
          "name": "stdout"
        }
      ]
    },
    {
      "cell_type": "markdown",
      "metadata": {
        "id": "vMHp9pnK2_Du"
      },
      "source": [
        "##### Existing weights and biases are not considered and the VGG19 model is trained again"
      ]
    },
    {
      "cell_type": "code",
      "metadata": {
        "colab": {
          "base_uri": "https://localhost:8080/"
        },
        "id": "b1B5t6x9y2ll",
        "outputId": "5503b0c3-ebb9-44b4-a844-7870c2dc8109"
      },
      "source": [
        "for layer in vgg_layers.layers:\n",
        "    layer.trainable = True\n",
        "\n",
        "# Check the trainable status of the individual layers\n",
        "for layer in vgg_layers.layers:\n",
        "    print(layer, layer.trainable)"
      ],
      "execution_count": null,
      "outputs": [
        {
          "output_type": "stream",
          "text": [
            "<tensorflow.python.keras.engine.input_layer.InputLayer object at 0x7eff15a68e90> True\n",
            "<tensorflow.python.keras.layers.convolutional.Conv2D object at 0x7eff15a93cd0> True\n",
            "<tensorflow.python.keras.layers.convolutional.Conv2D object at 0x7eff15a32510> True\n",
            "<tensorflow.python.keras.layers.pooling.MaxPooling2D object at 0x7eff15a02cd0> True\n",
            "<tensorflow.python.keras.layers.convolutional.Conv2D object at 0x7efec81c0410> True\n",
            "<tensorflow.python.keras.layers.convolutional.Conv2D object at 0x7efec81c49d0> True\n",
            "<tensorflow.python.keras.layers.pooling.MaxPooling2D object at 0x7efec81c7490> True\n",
            "<tensorflow.python.keras.layers.convolutional.Conv2D object at 0x7efec81c9c10> True\n",
            "<tensorflow.python.keras.layers.convolutional.Conv2D object at 0x7efec81d4150> True\n",
            "<tensorflow.python.keras.layers.convolutional.Conv2D object at 0x7efec81c7e50> True\n",
            "<tensorflow.python.keras.layers.convolutional.Conv2D object at 0x7efec81c7750> True\n",
            "<tensorflow.python.keras.layers.pooling.MaxPooling2D object at 0x7efec816b250> True\n",
            "<tensorflow.python.keras.layers.convolutional.Conv2D object at 0x7efec81e6690> True\n",
            "<tensorflow.python.keras.layers.convolutional.Conv2D object at 0x7efec81da890> True\n",
            "<tensorflow.python.keras.layers.convolutional.Conv2D object at 0x7efec8172dd0> True\n",
            "<tensorflow.python.keras.layers.convolutional.Conv2D object at 0x7efec8180e10> True\n",
            "<tensorflow.python.keras.layers.pooling.MaxPooling2D object at 0x7efec8170b10> True\n",
            "<tensorflow.python.keras.layers.convolutional.Conv2D object at 0x7efec817edd0> True\n",
            "<tensorflow.python.keras.layers.convolutional.Conv2D object at 0x7efec818a550> True\n",
            "<tensorflow.python.keras.layers.convolutional.Conv2D object at 0x7efec8185610> True\n",
            "<tensorflow.python.keras.layers.convolutional.Conv2D object at 0x7efec81980d0> True\n",
            "<tensorflow.python.keras.layers.pooling.MaxPooling2D object at 0x7efec81a1150> True\n"
          ],
          "name": "stdout"
        }
      ]
    },
    {
      "cell_type": "markdown",
      "metadata": {
        "id": "UyrGBR253Vwg"
      },
      "source": [
        "###### The model used is defined in define_model() function. Training and validation loss as well as training and validation accuracy are plotted in another function. The run_test_validity() function loads data using ImageDataGenerator, trains the model and the resulting model is saved."
      ]
    },
    {
      "cell_type": "code",
      "metadata": {
        "colab": {
          "base_uri": "https://localhost:8080/",
          "height": 1000
        },
        "id": "eHMzmZb1WI6C",
        "outputId": "ae431f9c-713c-4927-e8ba-e5e7b3e22670"
      },
      "source": [
        "import sys\n",
        "from matplotlib import pyplot\n",
        "from keras.models import Sequential\n",
        "from keras.layers import Conv2D\n",
        "from keras.layers import MaxPooling2D\n",
        "from keras.layers import Dense\n",
        "from keras.layers import Flatten\n",
        "from keras.optimizers import SGD\n",
        "from keras.preprocessing.image import ImageDataGenerator\n",
        "# define cnn model\n",
        "def define_model():\n",
        "  model = tf.keras.models.Sequential()\n",
        "  # Add the vgg convolutional base model\n",
        "  model.add(vgg_layers)\n",
        "  # add flatten layer\n",
        "  model.add(tf.keras.layers.Flatten())\n",
        "  \n",
        "  # add dense layers with some dropout\n",
        "  model.add(tf.keras.layers.Dense(256, activation='relu'))\n",
        "  model.add(tf.keras.layers.Dropout(rate=0.3))\n",
        "  model.add(tf.keras.layers.Dense(128, activation='relu'))\n",
        "  model.add(tf.keras.layers.Dropout(rate=0.3))\n",
        "\n",
        "  # add output layer\n",
        "  model.add(tf.keras.layers.Dense(2, activation='softmax'))\n",
        "  opt = SGD(learning_rate=0.001, momentum=0.9)\n",
        "  model.compile(optimizer=opt, loss='categorical_crossentropy', metrics=['accuracy'])\n",
        "  return model\n",
        "# plot diagnostic learning curves\n",
        "def summarize_diagnostics(history):\n",
        "  # plot loss\n",
        "  pyplot.subplot(211)\n",
        "  pyplot.title('Categorical Entropy Loss')\n",
        "  pyplot.plot(history.history['loss'], color='blue', label='train')\n",
        "  pyplot.plot(history.history['val_loss'], color='orange', label='valid')\n",
        "  # plot accuracy\n",
        "  pyplot.subplot(212)\n",
        "  pyplot.title('Classification Accuracy')\n",
        "  pyplot.plot(history.history['accuracy'], color='blue', label='train')\n",
        "  pyplot.plot(history.history['val_accuracy'], color='orange', label='valid')\n",
        "\n",
        "# run the test harness for evaluating a model\n",
        "def run_test_validity():\n",
        "  # define model\n",
        "  model = define_model()\n",
        "  # create data generator\n",
        "  datagen = ImageDataGenerator(rescale=1.0/255.0)\n",
        "  \n",
        "  #rmtrainpath = '/content/drive/MyDrive/Dphi_Hackathon/eye_gender_data_2/train/.ipynb_checkpoints'\n",
        "  #if(rmtrainpath):\n",
        "  #  os.rmdir(rmtrainpath)\n",
        "  #rmvalpath = '/content/drive/MyDrive/Dphi_Hackathon/eye_gender_data_2/valid/.ipynb_checkpoints'\n",
        "  #if(rmvalpath):\n",
        "  #  os.rmdir(rmvalpath)\n",
        "  # prepare iterators\n",
        "  train_it = datagen.flow_from_directory('/content/drive/MyDrive/Dphi_Hackathon/eye_gender_data_2/train',\n",
        "                                         batch_size=64, target_size=(32, 32))\n",
        "  val_it = datagen.flow_from_directory('/content/drive/MyDrive/Dphi_Hackathon/eye_gender_data_2/valid',\n",
        "                                        batch_size=64, target_size=(32, 32))\n",
        "  # fit model\n",
        "  history = model.fit(train_it, steps_per_epoch=len(train_it), validation_data=val_it, validation_steps=len(val_it), epochs=30, verbose=1)\n",
        "  model.save('/content/drive/MyDrive/Dphi_Hackathon/eye_gender_data_2/test_model_1.h5')\n",
        "  summarize_diagnostics(history)\n",
        "# entry point, run the test harness\n",
        "run_test_validity()"
      ],
      "execution_count": null,
      "outputs": [
        {
          "output_type": "stream",
          "text": [
            "Found 7376 images belonging to 2 classes.\n",
            "Found 1844 images belonging to 2 classes.\n",
            "Epoch 1/30\n",
            "116/116 [==============================] - 15s 105ms/step - loss: 0.5051 - accuracy: 0.7476 - val_loss: 0.3075 - val_accuracy: 0.8633\n",
            "Epoch 2/30\n",
            "116/116 [==============================] - 12s 103ms/step - loss: 0.3190 - accuracy: 0.8717 - val_loss: 0.1951 - val_accuracy: 0.9235\n",
            "Epoch 3/30\n",
            "116/116 [==============================] - 13s 109ms/step - loss: 0.2042 - accuracy: 0.9239 - val_loss: 0.2519 - val_accuracy: 0.8997\n",
            "Epoch 4/30\n",
            "116/116 [==============================] - 12s 105ms/step - loss: 0.2006 - accuracy: 0.9264 - val_loss: 0.1597 - val_accuracy: 0.9371\n",
            "Epoch 5/30\n",
            "116/116 [==============================] - 12s 100ms/step - loss: 0.1675 - accuracy: 0.9367 - val_loss: 0.1496 - val_accuracy: 0.9420\n",
            "Epoch 6/30\n",
            "116/116 [==============================] - 12s 99ms/step - loss: 0.1463 - accuracy: 0.9451 - val_loss: 0.1840 - val_accuracy: 0.9219\n",
            "Epoch 7/30\n",
            "116/116 [==============================] - 12s 100ms/step - loss: 0.1313 - accuracy: 0.9530 - val_loss: 0.1403 - val_accuracy: 0.9458\n",
            "Epoch 8/30\n",
            "116/116 [==============================] - 12s 105ms/step - loss: 0.1152 - accuracy: 0.9580 - val_loss: 0.1302 - val_accuracy: 0.9496\n",
            "Epoch 9/30\n",
            "116/116 [==============================] - 12s 106ms/step - loss: 0.0937 - accuracy: 0.9668 - val_loss: 0.1410 - val_accuracy: 0.9441\n",
            "Epoch 10/30\n",
            "116/116 [==============================] - 12s 102ms/step - loss: 0.0824 - accuracy: 0.9734 - val_loss: 0.1804 - val_accuracy: 0.9322\n",
            "Epoch 11/30\n",
            "116/116 [==============================] - 12s 106ms/step - loss: 0.0686 - accuracy: 0.9763 - val_loss: 0.1893 - val_accuracy: 0.9420\n",
            "Epoch 12/30\n",
            "116/116 [==============================] - 12s 106ms/step - loss: 0.0647 - accuracy: 0.9789 - val_loss: 0.1478 - val_accuracy: 0.9517\n",
            "Epoch 13/30\n",
            "116/116 [==============================] - 12s 100ms/step - loss: 0.0508 - accuracy: 0.9837 - val_loss: 0.1411 - val_accuracy: 0.9512\n",
            "Epoch 14/30\n",
            "116/116 [==============================] - 11s 99ms/step - loss: 0.0487 - accuracy: 0.9845 - val_loss: 0.1410 - val_accuracy: 0.9588\n",
            "Epoch 15/30\n",
            "116/116 [==============================] - 11s 99ms/step - loss: 0.0380 - accuracy: 0.9859 - val_loss: 0.2344 - val_accuracy: 0.9333\n",
            "Epoch 16/30\n",
            "116/116 [==============================] - 12s 103ms/step - loss: 0.0587 - accuracy: 0.9798 - val_loss: 0.1671 - val_accuracy: 0.9452\n",
            "Epoch 17/30\n",
            "116/116 [==============================] - 12s 107ms/step - loss: 0.0410 - accuracy: 0.9860 - val_loss: 0.1869 - val_accuracy: 0.9479\n",
            "Epoch 18/30\n",
            "116/116 [==============================] - 12s 103ms/step - loss: 0.0224 - accuracy: 0.9939 - val_loss: 0.1555 - val_accuracy: 0.9544\n",
            "Epoch 19/30\n",
            "116/116 [==============================] - 12s 100ms/step - loss: 0.0245 - accuracy: 0.9917 - val_loss: 0.1876 - val_accuracy: 0.9501\n",
            "Epoch 20/30\n",
            "116/116 [==============================] - 12s 101ms/step - loss: 0.0323 - accuracy: 0.9887 - val_loss: 0.1587 - val_accuracy: 0.9577\n",
            "Epoch 21/30\n",
            "116/116 [==============================] - 12s 99ms/step - loss: 0.0468 - accuracy: 0.9839 - val_loss: 0.1479 - val_accuracy: 0.9544\n",
            "Epoch 22/30\n",
            "116/116 [==============================] - 12s 108ms/step - loss: 0.0193 - accuracy: 0.9939 - val_loss: 0.1655 - val_accuracy: 0.9566\n",
            "Epoch 23/30\n",
            "116/116 [==============================] - 12s 106ms/step - loss: 0.0170 - accuracy: 0.9943 - val_loss: 0.1942 - val_accuracy: 0.9544\n",
            "Epoch 24/30\n",
            "116/116 [==============================] - 12s 100ms/step - loss: 0.0268 - accuracy: 0.9906 - val_loss: 0.2023 - val_accuracy: 0.9496\n",
            "Epoch 25/30\n",
            "116/116 [==============================] - 12s 100ms/step - loss: 0.0062 - accuracy: 0.9984 - val_loss: 0.1973 - val_accuracy: 0.9507\n",
            "Epoch 26/30\n",
            "116/116 [==============================] - 12s 101ms/step - loss: 0.0161 - accuracy: 0.9951 - val_loss: 0.2160 - val_accuracy: 0.9414\n",
            "Epoch 27/30\n",
            "116/116 [==============================] - 12s 104ms/step - loss: 0.0079 - accuracy: 0.9978 - val_loss: 0.2264 - val_accuracy: 0.9539\n",
            "Epoch 28/30\n",
            "116/116 [==============================] - 12s 107ms/step - loss: 0.0124 - accuracy: 0.9957 - val_loss: 0.1871 - val_accuracy: 0.9615\n",
            "Epoch 29/30\n",
            "116/116 [==============================] - 12s 103ms/step - loss: 0.0021 - accuracy: 0.9996 - val_loss: 0.2357 - val_accuracy: 0.9517\n",
            "Epoch 30/30\n",
            "116/116 [==============================] - 12s 101ms/step - loss: 0.0338 - accuracy: 0.9885 - val_loss: 0.1784 - val_accuracy: 0.9485\n"
          ],
          "name": "stdout"
        },
        {
          "output_type": "display_data",
          "data": {
            "image/png": "[encoded data removed]",
            "text/plain": [
              "<Figure size 432x288 with 2 Axes>"
            ]
          },
          "metadata": {
            "tags": [],
            "needs_background": "light"
          }
        }
      ]
    },
    {
      "cell_type": "markdown",
      "metadata": {
        "id": "AbXxc6T-4Z-G"
      },
      "source": [
        "# Test images are loaded into memory and normalized"
      ]
    },
    {
      "cell_type": "code",
      "metadata": {
        "id": "b4Q26EnJaxko"
      },
      "source": [
        "import pandas as pd\n",
        "test = pd.read_csv(home_path + '/Testing_set.csv')"
      ],
      "execution_count": null,
      "outputs": []
    },
    {
      "cell_type": "code",
      "metadata": {
        "colab": {
          "base_uri": "https://localhost:8080/"
        },
        "id": "WG7c23H2axfd",
        "outputId": "440b10ba-1f0f-4530-b31b-6fccb9713479"
      },
      "source": [
        "from keras.preprocessing import image\n",
        "test_image = []\n",
        "for i in tqdm(range(test.shape[0])):\n",
        "    img = image.load_img('/content/drive/MyDrive/Dphi_Hackathon/eye_gender_data_2/test/' + test['filename'][i],target_size=(32,32,3),grayscale=False)\n",
        "    img = image.img_to_array(img)\n",
        "    test_image.append(img)\n",
        "X_test = np.array(test_image, dtype='float') / 255.0"
      ],
      "execution_count": null,
      "outputs": [
        {
          "output_type": "stream",
          "text": [
            "100%|██████████| 2305/2305 [13:44<00:00,  2.80it/s]\n"
          ],
          "name": "stderr"
        }
      ]
    },
    {
      "cell_type": "markdown",
      "metadata": {
        "id": "zqwQWYQW4kcf"
      },
      "source": [
        "# Predicting test images"
      ]
    },
    {
      "cell_type": "code",
      "metadata": {
        "colab": {
          "base_uri": "https://localhost:8080/"
        },
        "id": "o4s5tQS1axdH",
        "outputId": "34f2807f-1c4d-479f-b260-f99704da4c88"
      },
      "source": [
        "#Making prediction\n",
        "from keras.models import load_model\n",
        "model = load_model('/content/drive/MyDrive/Dphi_Hackathon/eye_gender_data_2/test_model_1.h5')\n",
        "y_pred = model.predict(X_test)\n",
        "y_pred[:5]"
      ],
      "execution_count": null,
      "outputs": [
        {
          "output_type": "execute_result",
          "data": {
            "text/plain": [
              "array([[1.1183914e-04, 9.9988818e-01],\n",
              "       [6.5423123e-04, 9.9934572e-01],\n",
              "       [1.6710615e-03, 9.9832898e-01],\n",
              "       [1.0992861e-02, 9.8900712e-01],\n",
              "       [2.9965902e-05, 9.9997008e-01]], dtype=float32)"
            ]
          },
          "metadata": {
            "tags": []
          },
          "execution_count": 35
        }
      ]
    },
    {
      "cell_type": "markdown",
      "metadata": {
        "id": "uUxB3rJT4rwO"
      },
      "source": [
        "# Generating predicting labels"
      ]
    },
    {
      "cell_type": "code",
      "metadata": {
        "colab": {
          "base_uri": "https://localhost:8080/"
        },
        "id": "8cX6cz6uaxZa",
        "outputId": "22b5e8ae-7023-4401-fde8-5b1f7ba220fe"
      },
      "source": [
        "prediction_labels = np.argmax(y_pred, axis=1)\n",
        "prediction_labels[:5]"
      ],
      "execution_count": null,
      "outputs": [
        {
          "output_type": "execute_result",
          "data": {
            "text/plain": [
              "array([1, 1, 1, 1, 1])"
            ]
          },
          "metadata": {
            "tags": []
          },
          "execution_count": 36
        }
      ]
    },
    {
      "cell_type": "markdown",
      "metadata": {
        "id": "U6dLtprm4wgW"
      },
      "source": [
        "# Predictions are saved in sample_submission_N2.csv"
      ]
    },
    {
      "cell_type": "code",
      "metadata": {
        "colab": {
          "base_uri": "https://localhost:8080/"
        },
        "id": "kM6zMmdNaxVN",
        "outputId": "907a0f44-6406-42ab-aa78-a856db5b64cd"
      },
      "source": [
        "sample = pd.read_csv(home_path + '/sample_submission.csv')\n",
        "#print(sample)\n",
        "sample['label'] = prediction_labels\n",
        "#sample.to_csv(data_folder + '/sample_submission1.csv', header=True, index=False)\n",
        "#sample_cnn1 = pd.read_csv(data_folder + '/sample_submission1.csv')\n",
        "sample['label'].replace(0,'female',inplace=True)\n",
        "sample['label'].replace(1,'male',inplace=True)\n",
        "print(sample)\n",
        "sample.to_csv(home_path + '/sample_submission_N2.csv',header=True,index=False)"
      ],
      "execution_count": null,
      "outputs": [
        {
          "output_type": "stream",
          "text": [
            "       label\n",
            "0       male\n",
            "1       male\n",
            "2       male\n",
            "3       male\n",
            "4       male\n",
            "...      ...\n",
            "2300  female\n",
            "2301  female\n",
            "2302    male\n",
            "2303    male\n",
            "2304    male\n",
            "\n",
            "[2305 rows x 1 columns]\n"
          ],
          "name": "stdout"
        }
      ]
    },
    {
      "cell_type": "markdown",
      "metadata": {
        "id": "DMP45ihoAVzv"
      },
      "source": [
        "##### Reference\n",
        "Deep Learning for Computer Vision by Jason Brownlee"
      ]
    },
    {
      "cell_type": "markdown",
      "metadata": {
        "id": "KsRyWNIpT1fB"
      },
      "source": [
        "Accuracy: 95.1844"
      ]
    },
    {
      "cell_type": "code",
      "metadata": {
        "id": "QrVj9-esT6th"
      },
      "source": [
        ""
      ],
      "execution_count": null,
      "outputs": []
    }
  ]
}